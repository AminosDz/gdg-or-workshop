{
 "cells": [
  {
   "cell_type": "code",
   "execution_count": null,
   "metadata": {
    "colab": {
     "base_uri": "https://localhost:8080/",
     "height": 522
    },
    "collapsed": true,
    "id": "dqlZVgB1uZSv",
    "outputId": "81c42bdf-bcea-459a-d7ca-98fc9d462b71"
   },
   "outputs": [
    {
     "name": "stdout",
     "output_type": "stream",
     "text": [
      "Collecting ortools\n",
      "  Downloading ortools-9.2.9972-cp37-cp37m-manylinux_2_17_x86_64.manylinux2014_x86_64.whl (14.6 MB)\n",
      "\u001b[K     |████████████████████████████████| 14.6 MB 4.7 MB/s \n",
      "\u001b[?25hCollecting absl-py>=0.13\n",
      "  Downloading absl_py-1.0.0-py3-none-any.whl (126 kB)\n",
      "\u001b[K     |████████████████████████████████| 126 kB 51.9 MB/s \n",
      "\u001b[?25hRequirement already satisfied: numpy>=1.13.3 in /usr/local/lib/python3.7/dist-packages (from ortools) (1.19.5)\n",
      "Collecting protobuf>=3.19.1\n",
      "  Downloading protobuf-3.19.1-cp37-cp37m-manylinux_2_17_x86_64.manylinux2014_x86_64.whl (1.1 MB)\n",
      "\u001b[K     |████████████████████████████████| 1.1 MB 39.8 MB/s \n",
      "\u001b[?25hRequirement already satisfied: six in /usr/local/lib/python3.7/dist-packages (from absl-py>=0.13->ortools) (1.15.0)\n",
      "Installing collected packages: protobuf, absl-py, ortools\n",
      "  Attempting uninstall: protobuf\n",
      "    Found existing installation: protobuf 3.17.3\n",
      "    Uninstalling protobuf-3.17.3:\n",
      "      Successfully uninstalled protobuf-3.17.3\n",
      "  Attempting uninstall: absl-py\n",
      "    Found existing installation: absl-py 0.12.0\n",
      "    Uninstalling absl-py-0.12.0:\n",
      "      Successfully uninstalled absl-py-0.12.0\n",
      "\u001b[31mERROR: pip's dependency resolver does not currently take into account all the packages that are installed. This behaviour is the source of the following dependency conflicts.\n",
      "tensorflow-metadata 1.4.0 requires absl-py<0.13,>=0.9, but you have absl-py 1.0.0 which is incompatible.\u001b[0m\n",
      "Successfully installed absl-py-1.0.0 ortools-9.2.9972 protobuf-3.19.1\n"
     ]
    },
    {
     "data": {
      "application/vnd.colab-display-data+json": {
       "pip_warning": {
        "packages": [
         "google"
        ]
       }
      }
     },
     "metadata": {},
     "output_type": "display_data"
    }
   ],
   "source": [
    "!pip install ortools"
   ]
  },
  {
   "cell_type": "code",
   "execution_count": null,
   "metadata": {
    "id": "-MXzUEgdurXP"
   },
   "outputs": [],
   "source": [
    "# Nutrition guidelines, based on\n",
    "# USDA Dietary Guidelines for Americans, 2005\n",
    "# http://www.health.gov/DietaryGuidelines/dga2005/\n",
    "\n",
    "categories_nutritions = {\n",
    "    'calories': [1800, 2200],\n",
    "    'protein':  [91, 99999],\n",
    "    'fat':      [0, 65],\n",
    "    'sodium':   [0, 1779]\n",
    "}\n",
    "categories = list(categories_nutritions.keys())\n",
    "\n",
    "food_costs = {\n",
    "    'hamburger': 2.49,\n",
    "    'chicken':   2.89,\n",
    "    'hot dog':   1.50,\n",
    "    'fries':     1.89,\n",
    "    'macaroni':  2.09,\n",
    "    'pizza':     1.99,\n",
    "    'salad':     2.49,\n",
    "    'milk':      0.89,\n",
    "    'ice cream': 1.59\n",
    "}\n",
    "food_names = list(food_costs.keys())\n",
    "\n",
    "nutritionValues = {\n",
    "    ('hamburger', 'calories'): 410,\n",
    "    ('hamburger', 'protein'):  24,\n",
    "    ('hamburger', 'fat'):      26,\n",
    "    ('hamburger', 'sodium'):   730,\n",
    "    \n",
    "    ('chicken',   'calories'): 420,\n",
    "    ('chicken',   'protein'):  32,\n",
    "    ('chicken',   'fat'):      10,\n",
    "    ('chicken',   'sodium'):   1190,\n",
    "\n",
    "    ('hot dog',   'calories'): 560,\n",
    "    ('hot dog',   'protein'):  20,\n",
    "    ('hot dog',   'fat'):      32,\n",
    "    ('hot dog',   'sodium'):   1800,\n",
    "\n",
    "    ('fries',     'calories'): 380,\n",
    "    ('fries',     'protein'):  4,\n",
    "    ('fries',     'fat'):      19,\n",
    "    ('fries',     'sodium'):   270,\n",
    "\n",
    "    ('macaroni',  'calories'): 320,\n",
    "    ('macaroni',  'protein'):  12,\n",
    "    ('macaroni',  'fat'):      10,\n",
    "    ('macaroni',  'sodium'):   930,\n",
    "\n",
    "    ('pizza',     'calories'): 320,\n",
    "    ('pizza',     'protein'):  15,\n",
    "    ('pizza',     'fat'):      12,\n",
    "    ('pizza',     'sodium'):   820,\n",
    "\n",
    "    ('salad',     'calories'): 320,\n",
    "    ('salad',     'protein'):  31,\n",
    "    ('salad',     'fat'):      12,\n",
    "    ('salad',     'sodium'):   1230,\n",
    "\n",
    "    ('milk',      'calories'): 100,\n",
    "    ('milk',      'protein'):  8,\n",
    "    ('milk',      'fat'):      2.5,\n",
    "    ('milk',      'sodium'):   125,\n",
    "\n",
    "    ('ice cream', 'calories'): 330,\n",
    "    ('ice cream', 'protein'):  8,\n",
    "    ('ice cream', 'fat'):      10,\n",
    "    ('ice cream', 'sodium'):   180\n",
    "}"
   ]
  },
  {
   "cell_type": "code",
   "execution_count": null,
   "metadata": {
    "id": "RlJRAP9J26wG"
   },
   "outputs": [],
   "source": []
  }
 ],
 "metadata": {
  "colab": {
   "collapsed_sections": [],
   "name": "Diet LP model",
   "provenance": []
  },
  "kernelspec": {
   "display_name": "Python 3",
   "language": "python",
   "name": "python3"
  },
  "language_info": {
   "codemirror_mode": {
    "name": "ipython",
    "version": 3
   },
   "file_extension": ".py",
   "mimetype": "text/x-python",
   "name": "python",
   "nbconvert_exporter": "python",
   "pygments_lexer": "ipython3",
   "version": "3.8.5"
  }
 },
 "nbformat": 4,
 "nbformat_minor": 1
}
