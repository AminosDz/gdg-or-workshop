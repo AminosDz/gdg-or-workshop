{
 "cells": [
  {
   "cell_type": "code",
   "execution_count": null,
   "metadata": {
    "colab": {
     "base_uri": "https://localhost:8080/"
    },
    "id": "ZYGiwI5k3LrC",
    "outputId": "d67d567d-b044-4969-e249-8b6bdfd51d55"
   },
   "outputs": [
    {
     "name": "stdout",
     "output_type": "stream",
     "text": [
      "Requirement already satisfied: ortools in /usr/local/lib/python3.7/dist-packages (9.2.9972)\n",
      "Requirement already satisfied: protobuf>=3.19.1 in /usr/local/lib/python3.7/dist-packages (from ortools) (3.19.1)\n",
      "Requirement already satisfied: absl-py>=0.13 in /usr/local/lib/python3.7/dist-packages (from ortools) (1.0.0)\n",
      "Requirement already satisfied: numpy>=1.13.3 in /usr/local/lib/python3.7/dist-packages (from ortools) (1.19.5)\n",
      "Requirement already satisfied: six in /usr/local/lib/python3.7/dist-packages (from absl-py>=0.13->ortools) (1.15.0)\n"
     ]
    }
   ],
   "source": [
    "!pip install ortools\n",
    "\n",
    "import numpy as np\n",
    "import matplotlib.pyplot as plt"
   ]
  },
  {
   "cell_type": "code",
   "execution_count": null,
   "metadata": {
    "colab": {
     "base_uri": "https://localhost:8080/",
     "height": 917
    },
    "id": "C1Yyuc0G4irm",
    "outputId": "9a8c5603-b621-4a31-8670-dca202371201"
   },
   "outputs": [
    {
     "name": "stdout",
     "output_type": "stream",
     "text": [
      "PROBLEM 1\n",
      ":\n",
      "\n"
     ]
    },
    {
     "data": {
      "image/png": "[encoded data removed]",
      "text/plain": [
       "<Figure size 288x288 with 1 Axes>"
      ]
     },
     "metadata": {
      "needs_background": "light"
     },
     "output_type": "display_data"
    },
    {
     "name": "stdout",
     "output_type": "stream",
     "text": [
      "PROBLEM 2\n",
      ":\n",
      "\n"
     ]
    },
    {
     "data": {
      "image/png": "[encoded data removed]",
      "text/plain": [
       "<Figure size 288x288 with 1 Axes>"
      ]
     },
     "metadata": {
      "needs_background": "light"
     },
     "output_type": "display_data"
    },
    {
     "name": "stdout",
     "output_type": "stream",
     "text": [
      "PROBLEM 3\n",
      ":\n",
      "\n"
     ]
    },
    {
     "data": {
      "image/png": "[encoded data removed]",
      "text/plain": [
       "<Figure size 288x288 with 1 Axes>"
      ]
     },
     "metadata": {
      "needs_background": "light"
     },
     "output_type": "display_data"
    }
   ],
   "source": [
    "# Modeling the data\n",
    "GRNG = range(9)\n",
    "VISU_ENABLED = True\n",
    "\n",
    "SUDOKU_PROBLEM_1 = ( (0, 0, 0,  0, 9, 0,  1, 0, 0),\n",
    "                     (2, 8, 0,  0, 0, 5,  0, 0, 0),\n",
    "                     (7, 0, 0,  0, 0, 6,  4, 0, 0),\n",
    "                     (8, 0, 5,  0, 0, 3,  0, 0, 6),\n",
    "                     (0, 0, 1,  0, 0, 4,  0, 0, 0),\n",
    "                     (0, 7, 0,  2, 0, 0,  0, 0, 0),\n",
    "                     (3, 0, 0,  0, 0, 1,  0, 8, 0),\n",
    "                     (0, 0, 0,  0, 0, 0,  0, 5, 0),\n",
    "                     (0, 9, 0,  0, 0, 0,  0, 7, 0),\n",
    "                   )\n",
    "\n",
    "SUDOKU_PROBLEM_2 = ( (0, 7, 0,  0, 0, 0,  0, 4, 9),\n",
    "                     (0, 0, 0,  4, 0, 0,  0, 0, 0),\n",
    "                     (4, 0, 3,  5, 0, 7,  0, 0, 8),\n",
    "                     (0, 0, 7,  2, 5, 0,  4, 0, 0),\n",
    "                     (0, 0, 0,  0, 0, 0,  8, 0, 0),\n",
    "                     (0, 0, 4,  0, 3, 0,  5, 9, 2),\n",
    "                     (6, 1, 8,  0, 0, 0,  0, 0, 5),\n",
    "                     (0, 9, 0,  1, 0, 0,  0, 3, 0),\n",
    "                     (0, 0, 5,  0, 0, 0,  0, 0, 7),\n",
    "                   )\n",
    "\n",
    "SUDOKU_PROBLEM_3 = ( (0, 0, 0,  0, 0, 6,  0, 0, 0),\n",
    "                     (0, 5, 9,  0, 0, 0,  0, 0, 8),\n",
    "                     (2, 0, 0,  0, 0, 8,  0, 0, 0),\n",
    "                     (0, 4, 5,  0, 0, 0,  0, 0, 0),\n",
    "                     (0, 0, 3,  0, 0, 0,  0, 0, 0),\n",
    "                     (0, 0, 6,  0, 0, 3,  0, 5, 4),\n",
    "                     (0, 0, 0,  3, 2, 5,  0, 0, 6),\n",
    "                     (0, 0, 0,  0, 0, 0,  0, 0, 0),\n",
    "                     (0, 0, 0,  0, 0, 0,  0, 0, 0)\n",
    "                    )\n",
    "\n",
    "def print_grid(grid):\n",
    "    \"\"\" Print Sudoku grid \"\"\"\n",
    "    for l in GRNG:\n",
    "        if (l > 0) and (l % 3 == 0):\n",
    "           print('\\n')\n",
    "        for c in GRNG:\n",
    "            v = grid[l][c]\n",
    "            print('   ' if (c % 3 == 0) else ' ')\n",
    "            print(str(v) if v > 0 else '.')\n",
    "        print('\\n')\n",
    "\n",
    "def draw_grid(values):\n",
    "    %matplotlib inline\n",
    "    fig, ax = plt.subplots(figsize =(4,4))\n",
    "    min_val, max_val = 0, 9\n",
    "    R =  range(0,9)\n",
    "    for l in R:\n",
    "        for c in R:\n",
    "            v = values[c][l]\n",
    "            s = \" \"\n",
    "            if v > 0:\n",
    "                s = str(v)\n",
    "            ax.text(l+0.5,8.5-c, s, va='center', ha='center')\n",
    "        ax.set_xlim(min_val, max_val)\n",
    "    ax.set_ylim(min_val, max_val)\n",
    "    ax.set_xticks(np.arange(max_val))\n",
    "    ax.set_yticks(np.arange(max_val))\n",
    "    ax.grid()\n",
    "    plt.show()\n",
    "\n",
    "def display_grid(grid, name):\n",
    "    print(name)\n",
    "    print(\":\\n\")\n",
    "    if VISU_ENABLED:\n",
    "        draw_grid(grid)\n",
    "    else:\n",
    "        print_grid(grid)\n",
    "\n",
    "display_grid(SUDOKU_PROBLEM_1, \"PROBLEM 1\")\n",
    "display_grid(SUDOKU_PROBLEM_2, \"PROBLEM 2\")\n",
    "display_grid(SUDOKU_PROBLEM_3, \"PROBLEM 3\")\n",
    "\n",
    "problem = SUDOKU_PROBLEM_3"
   ]
  },
  {
   "cell_type": "code",
   "execution_count": null,
   "metadata": {
    "id": "HKKMg31K8vdW"
   },
   "outputs": [],
   "source": []
  }
 ],
 "metadata": {
  "colab": {
   "collapsed_sections": [],
   "name": "Sudoku CSP",
   "provenance": []
  },
  "kernelspec": {
   "display_name": "Python 3",
   "language": "python",
   "name": "python3"
  },
  "language_info": {
   "codemirror_mode": {
    "name": "ipython",
    "version": 3
   },
   "file_extension": ".py",
   "mimetype": "text/x-python",
   "name": "python",
   "nbconvert_exporter": "python",
   "pygments_lexer": "ipython3",
   "version": "3.8.5"
  }
 },
 "nbformat": 4,
 "nbformat_minor": 1
}
